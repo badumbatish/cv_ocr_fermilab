{
 "cells": [
  {
   "attachments": {},
   "cell_type": "markdown",
   "metadata": {},
   "source": [
    "This notebook plays with easyocr, without any image processing"
   ]
  },
  {
   "cell_type": "code",
   "execution_count": 2,
   "metadata": {},
   "outputs": [
    {
     "name": "stderr",
     "output_type": "stream",
     "text": [
      "CUDA not available - defaulting to CPU. Note: This module is much faster with a GPU.\n",
      "Downloading detection model, please wait. This may take several minutes depending upon your network connection.\n"
     ]
    },
    {
     "name": "stdout",
     "output_type": "stream",
     "text": [
      "Progress: |██████████████████████████████████████████████████| 100.0% Complete"
     ]
    },
    {
     "name": "stderr",
     "output_type": "stream",
     "text": [
      "Downloading recognition model, please wait. This may take several minutes depending upon your network connection.\n"
     ]
    },
    {
     "name": "stdout",
     "output_type": "stream",
     "text": [
      "Progress: |██████████████████████████████████████████████████| 100.0% Complete"
     ]
    }
   ],
   "source": [
    "import easyocr\n",
    "\n",
    "# Input language model, and load it into memory, usable forever\n",
    "reader = easyocr.Reader(['en'])"
   ]
  },
  {
   "cell_type": "code",
   "execution_count": 13,
   "metadata": {},
   "outputs": [
    {
     "name": "stdout",
     "output_type": "stream",
     "text": [
      "Progress: |████████████████████████████████████████████████████████| 112.4% Complete"
     ]
    }
   ],
   "source": [
    "# Read an image from an URL\n",
    "\n",
    "# 10 second execution on Mac M1 CPU\n",
    "result = reader.readtext('https://www.techsmith.com/blog/wp-content/uploads/2020/11/TechSmith-Blog-ExtractText.png')\n"
   ]
  },
  {
   "attachments": {},
   "cell_type": "markdown",
   "metadata": {},
   "source": [
    "You can try to pass additional parameter to the readtext function"
   ]
  },
  {
   "cell_type": "code",
   "execution_count": null,
   "metadata": {},
   "outputs": [],
   "source": [
    "# Simple output with detail=0\n",
    "# result = reader.readtext('https://www.techsmith.com/blog/wp-content/uploads/2020/11/TechSmith-Blog-ExtractText.png', detail=0)\n",
    "\n",
    "# Combine raw result into easy-toread paragraph\n",
    "# result = reader.readtext('https://www.techsmith.com/blog/wp-content/uploads/2020/11/TechSmith-Blog-ExtractText.png', detail=0, paragraph=True)"
   ]
  },
  {
   "cell_type": "code",
   "execution_count": 9,
   "metadata": {},
   "outputs": [
    {
     "name": "stdout",
     "output_type": "stream",
     "text": [
      "([[499, 247], [713, 247], [713, 307], [499, 307]], 'IMAGE', 0.9990909280469044)\n",
      "([[747, 249], [1039, 249], [1039, 309], [747, 309]], 'TO TEXT:', 0.7669254413645468)\n",
      "([[452, 438], [824, 438], [824, 564], [452, 564]], 'HOW', 0.9655665462910631)\n",
      "([[874, 436], [1089, 436], [1089, 565], [874, 565]], 'TO', 0.7640380169130504)\n",
      "([[196, 586], [906, 586], [906, 714], [196, 714]], 'EXTRACT', 0.9992427716671781)\n",
      "([[950, 587], [1350, 587], [1350, 715], [950, 715]], 'TEXT', 0.9988669753074646)\n",
      "([[504, 842], [692, 842], [692, 898], [504, 898]], 'FROM', 0.9999634027481079)\n",
      "([[710, 842], [1034, 842], [1034, 898], [710, 898]], 'AN IMAGE', 0.8676453134860002)\n"
     ]
    }
   ],
   "source": [
    "# Print out the result with no extra param\n",
    "\n",
    "# The output will be in a list format, each item represents a bounding box, the text detected and confident level, respectively.\n",
    "for res in result:\n",
    "    print(res)"
   ]
  }
 ],
 "metadata": {
  "kernelspec": {
   "display_name": ".venv",
   "language": "python",
   "name": "python3"
  },
  "language_info": {
   "codemirror_mode": {
    "name": "ipython",
    "version": 3
   },
   "file_extension": ".py",
   "mimetype": "text/x-python",
   "name": "python",
   "nbconvert_exporter": "python",
   "pygments_lexer": "ipython3",
   "version": "3.9.6"
  },
  "orig_nbformat": 4
 },
 "nbformat": 4,
 "nbformat_minor": 2
}
